{
 "cells": [
  {
   "attachments": {},
   "cell_type": "markdown",
   "metadata": {
    "pycharm": {
     "name": "#%% md\n"
    }
   },
   "source": [
    "1"
   ]
  },
  {
   "cell_type": "code",
   "execution_count": 4,
   "metadata": {
    "pycharm": {
     "name": "#%%\n"
    }
   },
   "outputs": [
    {
     "name": "stdout",
     "output_type": "stream",
     "text": [
      "0.8414709848078965\n",
      "0.5403023058681398\n",
      "1.5574077246549023\n",
      "1.5707963267948966\n",
      "0.0\n",
      "0.7853981633974483\n",
      "0.017453292519943295\n"
     ]
    }
   ],
   "source": [
    "import math\n",
    "class Trigon:\n",
    "    def __sin__(a):\n",
    "        num = math.sin(a)\n",
    "        return num\n",
    "    \n",
    "    def __cos__(a):\n",
    "        num = math.cos(a)\n",
    "        return num\n",
    "    \n",
    "    def __tan__(a):\n",
    "        num = math.tan(a)\n",
    "        return num\n",
    "    \n",
    "    def __arcsin__(a):\n",
    "        num = math.asin(a)\n",
    "        return num\n",
    "    \n",
    "    def __arccos__(a):\n",
    "        num = math.acos(a)\n",
    "        return num\n",
    "    \n",
    "    def __arctan__(a):\n",
    "        num = math.atan(a)\n",
    "        return num\n",
    "    \n",
    "    def __rad__(a):\n",
    "        num = math.radians(a)\n",
    "        return num\n",
    "print(Trigon.__sin__(1))\n",
    "print(Trigon.__cos__(1))\n",
    "print(Trigon.__tan__(1))\n",
    "print(Trigon.__arcsin__(1))\n",
    "print(Trigon.__arccos__(1))\n",
    "print(Trigon.__arctan__(1))\n",
    "print(Trigon.__rad__(1))"
   ]
  },
  {
   "attachments": {},
   "cell_type": "markdown",
   "metadata": {
    "pycharm": {
     "name": "#%% md\n"
    }
   },
   "source": [
    "2"
   ]
  },
  {
   "cell_type": "code",
   "execution_count": 5,
   "metadata": {
    "pycharm": {
     "name": "#%%\n"
    }
   },
   "outputs": [
    {
     "name": "stdout",
     "output_type": "stream",
     "text": [
      "[[[0, 1, 2, 3, 4, 5, 6, 7, 8, 9], [0, 1, 2, 3, 4, 5, 6, 7, 8, 9]], [[0, 1, 2, 3, 4, 5, 6, 7, 8, 9]]]\n"
     ]
    }
   ],
   "source": [
    "a=[]\n",
    "b=[]\n",
    "c=[]\n",
    "d=[]\n",
    "e=[]\n",
    "f = []\n",
    "for x in range(10):\n",
    "    d.append(x)\n",
    "    e.append(x)\n",
    "    f.append(x)\n",
    "b.append(d)\n",
    "b.append(e)\n",
    "c.append(f)\n",
    "a.append(b)\n",
    "a.append(c)\n",
    "print(a)"
   ]
  },
  {
   "attachments": {},
   "cell_type": "markdown",
   "metadata": {},
   "source": [
    "3"
   ]
  },
  {
   "cell_type": "code",
   "execution_count": 6,
   "metadata": {
    "pycharm": {
     "name": "#%%\n"
    }
   },
   "outputs": [],
   "source": [
    "class Node:\n",
    "    def __init__(self, val):\n",
    "        self.l = None\n",
    "        self.r = None\n",
    "        self.v = val\n",
    "\n",
    "class Tree:\n",
    "    def __init__(self):\n",
    "        self.root = None\n",
    "\n",
    "    def add(self, val):\n",
    "        if self.root is None:\n",
    "            self.root = Node(val)\n",
    "        else:\n",
    "            self._add(val, self.root)\n",
    "\n",
    "    def _add(self, val, node):\n",
    "        if val < node.v:\n",
    "            if node.l is not None:\n",
    "                self._add(val, node.l)\n",
    "            else:\n",
    "                node.l = Node(val)\n",
    "        else:\n",
    "            if node.r is not None:\n",
    "                self._add(val, node.r)\n",
    "            else:\n",
    "                node.r = Node(val)\n",
    "\n",
    "    def find(self, val):\n",
    "        if self.root is not None:\n",
    "            return self._find(val, self.root)\n",
    "        else:\n",
    "            return None\n",
    "\n",
    "    def _find(self, val, node):\n",
    "        if val == node.v:\n",
    "            return node\n",
    "        elif (val < node.v and node.l is not None):\n",
    "            return self._find(val, node.l)\n",
    "        elif (val > node.v and node.r is not None):\n",
    "            return self._find(val, node.r)\n",
    "\n",
    "    def printTree(self):\n",
    "        if self.root is not None:\n",
    "            self._printTree(self.root)\n",
    "\n",
    "    def _printTree(self, node):\n",
    "        if node is not None:\n",
    "            self._printTree(node.l)\n",
    "            print(str(node.v) + ' ')\n",
    "            self._printTree(node.r)"
   ]
  },
  {
   "attachments": {},
   "cell_type": "markdown",
   "metadata": {
    "pycharm": {
     "name": "#%% md\n"
    }
   },
   "source": [
    "4"
   ]
  },
  {
   "cell_type": "code",
   "execution_count": 7,
   "metadata": {
    "pycharm": {
     "name": "#%%\n"
    }
   },
   "outputs": [
    {
     "name": "stdout",
     "output_type": "stream",
     "text": [
      "[[3 0]\n",
      " [0 3]]\n",
      "              precision    recall  f1-score   support\n",
      "\n",
      "           0       1.00      1.00      1.00         3\n",
      "           1       1.00      1.00      1.00         3\n",
      "\n",
      "    accuracy                           1.00         6\n",
      "   macro avg       1.00      1.00      1.00         6\n",
      "weighted avg       1.00      1.00      1.00         6\n",
      "\n"
     ]
    },
    {
     "data": {
      "image/png": "[encoded data removed]",
      "text/plain": [
       "<Figure size 640x480 with 1 Axes>"
      ]
     },
     "metadata": {},
     "output_type": "display_data"
    }
   ],
   "source": [
    "import numpy as np\n",
    "from sklearn.tree import DecisionTreeClassifier\n",
    "from sklearn.metrics import classification_report, confusion_matrix\n",
    "from sklearn import tree\n",
    "\n",
    "X = np.array([[-1, -1], [-2, -1], [-3, -2], [1, 1], [2, 1], [3, 2]])\n",
    "target = [0, 0, 0, 1, 1, 1]\n",
    "\n",
    "X.shape\n",
    "\n",
    "classifier = DecisionTreeClassifier()\n",
    "classifier.fit(X,target)\n",
    "\n",
    "tree.plot_tree(classifier)\n",
    "\n",
    "y_pred = classifier.predict(X)\n",
    "\n",
    "print(confusion_matrix(y_pred,target))\n",
    "print(classification_report(y_pred,target))"
   ]
  },
  {
   "attachments": {},
   "cell_type": "markdown",
   "metadata": {
    "pycharm": {
     "name": "#%% md\n"
    }
   },
   "source": [
    "5"
   ]
  },
  {
   "cell_type": "code",
   "execution_count": 8,
   "metadata": {
    "pycharm": {
     "name": "#%%\n"
    }
   },
   "outputs": [
    {
     "name": "stdout",
     "output_type": "stream",
     "text": [
      "(48, 5)\n"
     ]
    },
    {
     "data": {
      "text/html": [
       "<div>\n",
       "<style scoped>\n",
       "    .dataframe tbody tr th:only-of-type {\n",
       "        vertical-align: middle;\n",
       "    }\n",
       "\n",
       "    .dataframe tbody tr th {\n",
       "        vertical-align: top;\n",
       "    }\n",
       "\n",
       "    .dataframe thead th {\n",
       "        text-align: right;\n",
       "    }\n",
       "</style>\n",
       "<table border=\"1\" class=\"dataframe\">\n",
       "  <thead>\n",
       "    <tr style=\"text-align: right;\">\n",
       "      <th></th>\n",
       "      <th>Petrol_tax</th>\n",
       "      <th>Average_income</th>\n",
       "      <th>Paved_Highways</th>\n",
       "      <th>Population_Driver_licence(%)</th>\n",
       "      <th>Petrol_Consumption</th>\n",
       "    </tr>\n",
       "  </thead>\n",
       "  <tbody>\n",
       "    <tr>\n",
       "      <th>count</th>\n",
       "      <td>48.000000</td>\n",
       "      <td>48.000000</td>\n",
       "      <td>48.000000</td>\n",
       "      <td>48.000000</td>\n",
       "      <td>48.000000</td>\n",
       "    </tr>\n",
       "    <tr>\n",
       "      <th>mean</th>\n",
       "      <td>7.668333</td>\n",
       "      <td>4241.833333</td>\n",
       "      <td>5565.416667</td>\n",
       "      <td>0.570333</td>\n",
       "      <td>576.770833</td>\n",
       "    </tr>\n",
       "    <tr>\n",
       "      <th>std</th>\n",
       "      <td>0.950770</td>\n",
       "      <td>573.623768</td>\n",
       "      <td>3491.507166</td>\n",
       "      <td>0.055470</td>\n",
       "      <td>111.885816</td>\n",
       "    </tr>\n",
       "    <tr>\n",
       "      <th>min</th>\n",
       "      <td>5.000000</td>\n",
       "      <td>3063.000000</td>\n",
       "      <td>431.000000</td>\n",
       "      <td>0.451000</td>\n",
       "      <td>344.000000</td>\n",
       "    </tr>\n",
       "    <tr>\n",
       "      <th>25%</th>\n",
       "      <td>7.000000</td>\n",
       "      <td>3739.000000</td>\n",
       "      <td>3110.250000</td>\n",
       "      <td>0.529750</td>\n",
       "      <td>509.500000</td>\n",
       "    </tr>\n",
       "    <tr>\n",
       "      <th>50%</th>\n",
       "      <td>7.500000</td>\n",
       "      <td>4298.000000</td>\n",
       "      <td>4735.500000</td>\n",
       "      <td>0.564500</td>\n",
       "      <td>568.500000</td>\n",
       "    </tr>\n",
       "    <tr>\n",
       "      <th>75%</th>\n",
       "      <td>8.125000</td>\n",
       "      <td>4578.750000</td>\n",
       "      <td>7156.000000</td>\n",
       "      <td>0.595250</td>\n",
       "      <td>632.750000</td>\n",
       "    </tr>\n",
       "    <tr>\n",
       "      <th>max</th>\n",
       "      <td>10.000000</td>\n",
       "      <td>5342.000000</td>\n",
       "      <td>17782.000000</td>\n",
       "      <td>0.724000</td>\n",
       "      <td>968.000000</td>\n",
       "    </tr>\n",
       "  </tbody>\n",
       "</table>\n",
       "</div>"
      ],
      "text/plain": [
       "       Petrol_tax  Average_income  Paved_Highways  \\\n",
       "count   48.000000       48.000000       48.000000   \n",
       "mean     7.668333     4241.833333     5565.416667   \n",
       "std      0.950770      573.623768     3491.507166   \n",
       "min      5.000000     3063.000000      431.000000   \n",
       "25%      7.000000     3739.000000     3110.250000   \n",
       "50%      7.500000     4298.000000     4735.500000   \n",
       "75%      8.125000     4578.750000     7156.000000   \n",
       "max     10.000000     5342.000000    17782.000000   \n",
       "\n",
       "       Population_Driver_licence(%)  Petrol_Consumption  \n",
       "count                     48.000000           48.000000  \n",
       "mean                       0.570333          576.770833  \n",
       "std                        0.055470          111.885816  \n",
       "min                        0.451000          344.000000  \n",
       "25%                        0.529750          509.500000  \n",
       "50%                        0.564500          568.500000  \n",
       "75%                        0.595250          632.750000  \n",
       "max                        0.724000          968.000000  "
      ]
     },
     "execution_count": 8,
     "metadata": {},
     "output_type": "execute_result"
    }
   ],
   "source": [
    "import pandas as pd\n",
    "\n",
    "url='https://raw.githubusercontent.com/likarajo/petrol_consumption/master/data/petrol_consumption.csv'\n",
    "dataframe=pd.read_csv(url)\n",
    "\n",
    "dataframe.head()\n",
    "print(dataframe.shape)\n",
    "dataframe.describe()"
   ]
  },
  {
   "cell_type": "code",
   "execution_count": 9,
   "metadata": {
    "pycharm": {
     "name": "#%%\n"
    }
   },
   "outputs": [
    {
     "data": {
      "image/png": "[encoded data removed]",
      "text/plain": [
       "<Figure size 640x480 with 1 Axes>"
      ]
     },
     "metadata": {},
     "output_type": "display_data"
    }
   ],
   "source": [
    "import matplotlib.pyplot as plt\n",
    "dataframe.plot(x=\"Petrol_tax\",y=['Paved_Highways','Petrol_Consumption','Population_Driver_licence(%)'],kind=\"bar\")\n",
    "plt.xlabel(\"Штаты CША\")\n",
    "plt.ylabel(\"Потребление бензина\")\n",
    "plt.show()"
   ]
  },
  {
   "cell_type": "code",
   "execution_count": 10,
   "metadata": {
    "pycharm": {
     "name": "#%%\n"
    }
   },
   "outputs": [
    {
     "name": "stdout",
     "output_type": "stream",
     "text": [
      "    Average_income  Population_Driver_licence(%)  Petrol_Consumption\n",
      "0             3571                         0.525                 541\n",
      "1             4092                         0.572                 524\n",
      "2             3865                         0.580                 561\n",
      "3             4870                         0.529                 414\n",
      "4             4399                         0.544                 410\n",
      "5             5342                         0.571                 457\n",
      "6             5319                         0.451                 344\n",
      "7             5126                         0.553                 467\n",
      "8             4447                         0.529                 464\n",
      "9             4512                         0.552                 498\n",
      "10            4391                         0.530                 580\n",
      "11            5126                         0.525                 471\n",
      "12            4817                         0.574                 525\n",
      "13            4207                         0.545                 508\n",
      "14            4332                         0.608                 566\n",
      "15            4318                         0.586                 635\n",
      "16            4206                         0.572                 603\n",
      "17            3718                         0.540                 714\n",
      "18            4716                         0.724                 865\n",
      "19            4341                         0.677                 640\n",
      "20            4593                         0.663                 649\n",
      "21            4983                         0.602                 540\n",
      "22            4897                         0.511                 464\n",
      "23            4258                         0.517                 547\n",
      "24            4574                         0.551                 460\n",
      "25            3721                         0.544                 566\n",
      "26            3448                         0.548                 577\n",
      "27            3846                         0.579                 631\n",
      "28            4188                         0.563                 574\n",
      "29            3601                         0.493                 534\n",
      "30            3640                         0.518                 571\n",
      "31            3333                         0.513                 554\n",
      "32            3063                         0.578                 577\n",
      "33            3357                         0.547                 628\n",
      "34            3528                         0.487                 487\n",
      "35            3802                         0.629                 644\n",
      "36            4045                         0.566                 640\n",
      "37            3897                         0.586                 704\n",
      "38            3635                         0.663                 648\n",
      "39            4345                         0.672                 968\n",
      "40            4449                         0.626                 587\n",
      "41            3656                         0.563                 699\n",
      "42            4300                         0.603                 632\n",
      "43            3745                         0.508                 591\n",
      "44            5215                         0.672                 782\n",
      "45            4476                         0.571                 510\n",
      "46            4296                         0.623                 610\n",
      "47            5002                         0.593                 524\n",
      "0      9.00\n",
      "1      9.00\n",
      "2      9.00\n",
      "3      7.50\n",
      "4      8.00\n",
      "5     10.00\n",
      "6      8.00\n",
      "7      8.00\n",
      "8      8.00\n",
      "9      7.00\n",
      "10     8.00\n",
      "11     7.50\n",
      "12     7.00\n",
      "13     7.00\n",
      "14     7.00\n",
      "15     7.00\n",
      "16     7.00\n",
      "17     7.00\n",
      "18     7.00\n",
      "19     8.50\n",
      "20     7.00\n",
      "21     8.00\n",
      "22     9.00\n",
      "23     9.00\n",
      "24     8.50\n",
      "25     9.00\n",
      "26     8.00\n",
      "27     7.50\n",
      "28     8.00\n",
      "29     9.00\n",
      "30     7.00\n",
      "31     7.00\n",
      "32     8.00\n",
      "33     7.50\n",
      "34     8.00\n",
      "35     6.58\n",
      "36     5.00\n",
      "37     7.00\n",
      "38     8.50\n",
      "39     7.00\n",
      "40     7.00\n",
      "41     7.00\n",
      "42     7.00\n",
      "43     7.00\n",
      "44     6.00\n",
      "45     9.00\n",
      "46     7.00\n",
      "47     7.00\n",
      "Name: Petrol_tax, dtype: float64\n"
     ]
    }
   ],
   "source": [
    "X=dataframe[['Average_income','Population_Driver_licence(%)','Petrol_Consumption']]\n",
    "y=dataframe['Petrol_tax']\n",
    "print(X)\n",
    "print(y)"
   ]
  },
  {
   "cell_type": "code",
   "execution_count": 11,
   "metadata": {
    "pycharm": {
     "name": "#%%\n"
    }
   },
   "outputs": [],
   "source": [
    "from sklearn.model_selection import train_test_split\n",
    "X_train,X_test,y_train,y_test=train_test_split(X,y,test_size=0.2,random_state=0)"
   ]
  },
  {
   "cell_type": "code",
   "execution_count": 12,
   "metadata": {
    "pycharm": {
     "name": "#%%\n"
    }
   },
   "outputs": [
    {
     "data": {
      "text/html": [
       "<style>#sk-container-id-1 {color: black;background-color: white;}#sk-container-id-1 pre{padding: 0;}#sk-container-id-1 div.sk-toggleable {background-color: white;}#sk-container-id-1 label.sk-toggleable__label {cursor: pointer;display: block;width: 100%;margin-bottom: 0;padding: 0.3em;box-sizing: border-box;text-align: center;}#sk-container-id-1 label.sk-toggleable__label-arrow:before {content: \"▸\";float: left;margin-right: 0.25em;color: #696969;}#sk-container-id-1 label.sk-toggleable__label-arrow:hover:before {color: black;}#sk-container-id-1 div.sk-estimator:hover label.sk-toggleable__label-arrow:before {color: black;}#sk-container-id-1 div.sk-toggleable__content {max-height: 0;max-width: 0;overflow: hidden;text-align: left;background-color: #f0f8ff;}#sk-container-id-1 div.sk-toggleable__content pre {margin: 0.2em;color: black;border-radius: 0.25em;background-color: #f0f8ff;}#sk-container-id-1 input.sk-toggleable__control:checked~div.sk-toggleable__content {max-height: 200px;max-width: 100%;overflow: auto;}#sk-container-id-1 input.sk-toggleable__control:checked~label.sk-toggleable__label-arrow:before {content: \"▾\";}#sk-container-id-1 div.sk-estimator input.sk-toggleable__control:checked~label.sk-toggleable__label {background-color: #d4ebff;}#sk-container-id-1 div.sk-label input.sk-toggleable__control:checked~label.sk-toggleable__label {background-color: #d4ebff;}#sk-container-id-1 input.sk-hidden--visually {border: 0;clip: rect(1px 1px 1px 1px);clip: rect(1px, 1px, 1px, 1px);height: 1px;margin: -1px;overflow: hidden;padding: 0;position: absolute;width: 1px;}#sk-container-id-1 div.sk-estimator {font-family: monospace;background-color: #f0f8ff;border: 1px dotted black;border-radius: 0.25em;box-sizing: border-box;margin-bottom: 0.5em;}#sk-container-id-1 div.sk-estimator:hover {background-color: #d4ebff;}#sk-container-id-1 div.sk-parallel-item::after {content: \"\";width: 100%;border-bottom: 1px solid gray;flex-grow: 1;}#sk-container-id-1 div.sk-label:hover label.sk-toggleable__label {background-color: #d4ebff;}#sk-container-id-1 div.sk-serial::before {content: \"\";position: absolute;border-left: 1px solid gray;box-sizing: border-box;top: 0;bottom: 0;left: 50%;z-index: 0;}#sk-container-id-1 div.sk-serial {display: flex;flex-direction: column;align-items: center;background-color: white;padding-right: 0.2em;padding-left: 0.2em;position: relative;}#sk-container-id-1 div.sk-item {position: relative;z-index: 1;}#sk-container-id-1 div.sk-parallel {display: flex;align-items: stretch;justify-content: center;background-color: white;position: relative;}#sk-container-id-1 div.sk-item::before, #sk-container-id-1 div.sk-parallel-item::before {content: \"\";position: absolute;border-left: 1px solid gray;box-sizing: border-box;top: 0;bottom: 0;left: 50%;z-index: -1;}#sk-container-id-1 div.sk-parallel-item {display: flex;flex-direction: column;z-index: 1;position: relative;background-color: white;}#sk-container-id-1 div.sk-parallel-item:first-child::after {align-self: flex-end;width: 50%;}#sk-container-id-1 div.sk-parallel-item:last-child::after {align-self: flex-start;width: 50%;}#sk-container-id-1 div.sk-parallel-item:only-child::after {width: 0;}#sk-container-id-1 div.sk-dashed-wrapped {border: 1px dashed gray;margin: 0 0.4em 0.5em 0.4em;box-sizing: border-box;padding-bottom: 0.4em;background-color: white;}#sk-container-id-1 div.sk-label label {font-family: monospace;font-weight: bold;display: inline-block;line-height: 1.2em;}#sk-container-id-1 div.sk-label-container {text-align: center;}#sk-container-id-1 div.sk-container {/* jupyter's `normalize.less` sets `[hidden] { display: none; }` but bootstrap.min.css set `[hidden] { display: none !important; }` so we also need the `!important` here to be able to override the default hidden behavior on the sphinx rendered scikit-learn.org. See: https://github.com/scikit-learn/scikit-learn/issues/21755 */display: inline-block !important;position: relative;}#sk-container-id-1 div.sk-text-repr-fallback {display: none;}</style><div id=\"sk-container-id-1\" class=\"sk-top-container\"><div class=\"sk-text-repr-fallback\"><pre>DecisionTreeRegressor()</pre><b>In a Jupyter environment, please rerun this cell to show the HTML representation or trust the notebook. <br />On GitHub, the HTML representation is unable to render, please try loading this page with nbviewer.org.</b></div><div class=\"sk-container\" hidden><div class=\"sk-item\"><div class=\"sk-estimator sk-toggleable\"><input class=\"sk-toggleable__control sk-hidden--visually\" id=\"sk-estimator-id-1\" type=\"checkbox\" checked><label for=\"sk-estimator-id-1\" class=\"sk-toggleable__label sk-toggleable__label-arrow\">DecisionTreeRegressor</label><div class=\"sk-toggleable__content\"><pre>DecisionTreeRegressor()</pre></div></div></div></div></div>"
      ],
      "text/plain": [
       "DecisionTreeRegressor()"
      ]
     },
     "execution_count": 12,
     "metadata": {},
     "output_type": "execute_result"
    }
   ],
   "source": [
    "from sklearn.tree import DecisionTreeRegressor\n",
    "regressor = DecisionTreeRegressor()\n",
    "regressor.fit(X_train, y_train)"
   ]
  },
  {
   "cell_type": "code",
   "execution_count": 13,
   "metadata": {
    "pycharm": {
     "name": "#%%\n"
    }
   },
   "outputs": [
    {
     "data": {
      "text/plain": [
       "[Text(0.47115384615384615, 0.95, 'x[2] <= 582.5\\nsquared_error = 1.018\\nsamples = 38\\nvalue = 7.634'),\n",
       " Text(0.22115384615384615, 0.85, 'x[0] <= 5330.5\\nsquared_error = 0.831\\nsamples = 21\\nvalue = 8.119'),\n",
       " Text(0.18269230769230768, 0.75, 'x[0] <= 4140.0\\nsquared_error = 0.687\\nsamples = 20\\nvalue = 8.025'),\n",
       " Text(0.07692307692307693, 0.65, 'x[0] <= 3452.0\\nsquared_error = 0.64\\nsamples = 5\\nvalue = 8.6'),\n",
       " Text(0.038461538461538464, 0.55, 'squared_error = 0.0\\nsamples = 1\\nvalue = 7.0'),\n",
       " Text(0.11538461538461539, 0.55, 'squared_error = 0.0\\nsamples = 4\\nvalue = 9.0'),\n",
       " Text(0.28846153846153844, 0.65, 'x[1] <= 0.521\\nsquared_error = 0.556\\nsamples = 15\\nvalue = 7.833'),\n",
       " Text(0.19230769230769232, 0.55, 'x[1] <= 0.481\\nsquared_error = 0.222\\nsamples = 3\\nvalue = 8.667'),\n",
       " Text(0.15384615384615385, 0.45, 'squared_error = 0.0\\nsamples = 1\\nvalue = 8.0'),\n",
       " Text(0.23076923076923078, 0.45, 'squared_error = 0.0\\nsamples = 2\\nvalue = 9.0'),\n",
       " Text(0.38461538461538464, 0.55, 'x[1] <= 0.572\\nsquared_error = 0.422\\nsamples = 12\\nvalue = 7.625'),\n",
       " Text(0.3076923076923077, 0.45, 'x[1] <= 0.567\\nsquared_error = 0.434\\nsamples = 8\\nvalue = 7.812'),\n",
       " Text(0.2692307692307692, 0.35, 'x[2] <= 467.5\\nsquared_error = 0.265\\nsamples = 7\\nvalue = 7.643'),\n",
       " Text(0.19230769230769232, 0.25, 'x[1] <= 0.54\\nsquared_error = 0.167\\nsamples = 3\\nvalue = 8.0'),\n",
       " Text(0.15384615384615385, 0.15, 'x[0] <= 4658.5\\nsquared_error = 0.062\\nsamples = 2\\nvalue = 7.75'),\n",
       " Text(0.11538461538461539, 0.05, 'squared_error = 0.0\\nsamples = 1\\nvalue = 8.0'),\n",
       " Text(0.19230769230769232, 0.05, 'squared_error = 0.0\\nsamples = 1\\nvalue = 7.5'),\n",
       " Text(0.23076923076923078, 0.15, 'squared_error = 0.0\\nsamples = 1\\nvalue = 8.5'),\n",
       " Text(0.34615384615384615, 0.25, 'x[2] <= 541.0\\nsquared_error = 0.172\\nsamples = 4\\nvalue = 7.375'),\n",
       " Text(0.3076923076923077, 0.15, 'x[0] <= 4819.0\\nsquared_error = 0.056\\nsamples = 3\\nvalue = 7.167'),\n",
       " Text(0.2692307692307692, 0.05, 'squared_error = 0.0\\nsamples = 2\\nvalue = 7.0'),\n",
       " Text(0.34615384615384615, 0.05, 'squared_error = 0.0\\nsamples = 1\\nvalue = 7.5'),\n",
       " Text(0.38461538461538464, 0.15, 'squared_error = 0.0\\nsamples = 1\\nvalue = 8.0'),\n",
       " Text(0.34615384615384615, 0.35, 'squared_error = 0.0\\nsamples = 1\\nvalue = 9.0'),\n",
       " Text(0.46153846153846156, 0.45, 'x[1] <= 0.597\\nsquared_error = 0.188\\nsamples = 4\\nvalue = 7.25'),\n",
       " Text(0.4230769230769231, 0.35, 'squared_error = 0.0\\nsamples = 2\\nvalue = 7.0'),\n",
       " Text(0.5, 0.35, 'x[1] <= 0.605\\nsquared_error = 0.25\\nsamples = 2\\nvalue = 7.5'),\n",
       " Text(0.46153846153846156, 0.25, 'squared_error = 0.0\\nsamples = 1\\nvalue = 8.0'),\n",
       " Text(0.5384615384615384, 0.25, 'squared_error = 0.0\\nsamples = 1\\nvalue = 7.0'),\n",
       " Text(0.25961538461538464, 0.75, 'squared_error = 0.0\\nsamples = 1\\nvalue = 10.0'),\n",
       " Text(0.7211538461538461, 0.85, 'x[0] <= 3645.5\\nsquared_error = 0.597\\nsamples = 17\\nvalue = 7.034'),\n",
       " Text(0.6153846153846154, 0.75, 'x[2] <= 638.0\\nsquared_error = 0.25\\nsamples = 2\\nvalue = 8.0'),\n",
       " Text(0.5769230769230769, 0.65, 'squared_error = 0.0\\nsamples = 1\\nvalue = 7.5'),\n",
       " Text(0.6538461538461539, 0.65, 'squared_error = 0.0\\nsamples = 1\\nvalue = 8.5'),\n",
       " Text(0.8269230769230769, 0.75, 'x[1] <= 0.674\\nsquared_error = 0.503\\nsamples = 15\\nvalue = 6.905'),\n",
       " Text(0.7307692307692307, 0.65, 'x[2] <= 637.5\\nsquared_error = 0.367\\nsamples = 13\\nvalue = 6.775'),\n",
       " Text(0.6538461538461539, 0.55, 'x[0] <= 4026.0\\nsquared_error = 0.035\\nsamples = 6\\nvalue = 7.083'),\n",
       " Text(0.6153846153846154, 0.45, 'x[0] <= 3795.5\\nsquared_error = 0.062\\nsamples = 2\\nvalue = 7.25'),\n",
       " Text(0.5769230769230769, 0.35, 'squared_error = 0.0\\nsamples = 1\\nvalue = 7.0'),\n",
       " Text(0.6538461538461539, 0.35, 'squared_error = 0.0\\nsamples = 1\\nvalue = 7.5'),\n",
       " Text(0.6923076923076923, 0.45, 'squared_error = 0.0\\nsamples = 4\\nvalue = 7.0'),\n",
       " Text(0.8076923076923077, 0.55, 'x[2] <= 642.0\\nsquared_error = 0.501\\nsamples = 7\\nvalue = 6.511'),\n",
       " Text(0.7692307692307693, 0.45, 'squared_error = 0.0\\nsamples = 1\\nvalue = 5.0'),\n",
       " Text(0.8461538461538461, 0.45, 'x[0] <= 4904.0\\nsquared_error = 0.14\\nsamples = 6\\nvalue = 6.763'),\n",
       " Text(0.8076923076923077, 0.35, 'x[2] <= 646.5\\nsquared_error = 0.028\\nsamples = 5\\nvalue = 6.916'),\n",
       " Text(0.7692307692307693, 0.25, 'squared_error = 0.0\\nsamples = 1\\nvalue = 6.58'),\n",
       " Text(0.8461538461538461, 0.25, 'squared_error = 0.0\\nsamples = 4\\nvalue = 7.0'),\n",
       " Text(0.8846153846153846, 0.35, 'squared_error = 0.0\\nsamples = 1\\nvalue = 6.0'),\n",
       " Text(0.9230769230769231, 0.65, 'x[0] <= 4528.5\\nsquared_error = 0.562\\nsamples = 2\\nvalue = 7.75'),\n",
       " Text(0.8846153846153846, 0.55, 'squared_error = 0.0\\nsamples = 1\\nvalue = 8.5'),\n",
       " Text(0.9615384615384616, 0.55, 'squared_error = 0.0\\nsamples = 1\\nvalue = 7.0')]"
      ]
     },
     "execution_count": 13,
     "metadata": {},
     "output_type": "execute_result"
    },
    {
     "data": {
      "image/png": "[encoded data removed]",
      "text/plain": [
       "<Figure size 640x480 with 1 Axes>"
      ]
     },
     "metadata": {},
     "output_type": "display_data"
    }
   ],
   "source": [
    "from sklearn import tree\n",
    "tree.plot_tree(regressor)"
   ]
  },
  {
   "cell_type": "code",
   "execution_count": 14,
   "metadata": {
    "pycharm": {
     "name": "#%%\n"
    }
   },
   "outputs": [
    {
     "data": {
      "text/html": [
       "<div>\n",
       "<style scoped>\n",
       "    .dataframe tbody tr th:only-of-type {\n",
       "        vertical-align: middle;\n",
       "    }\n",
       "\n",
       "    .dataframe tbody tr th {\n",
       "        vertical-align: top;\n",
       "    }\n",
       "\n",
       "    .dataframe thead th {\n",
       "        text-align: right;\n",
       "    }\n",
       "</style>\n",
       "<table border=\"1\" class=\"dataframe\">\n",
       "  <thead>\n",
       "    <tr style=\"text-align: right;\">\n",
       "      <th></th>\n",
       "      <th>Actual</th>\n",
       "      <th>Predicted</th>\n",
       "    </tr>\n",
       "  </thead>\n",
       "  <tbody>\n",
       "    <tr>\n",
       "      <th>29</th>\n",
       "      <td>9.0</td>\n",
       "      <td>9.0</td>\n",
       "    </tr>\n",
       "    <tr>\n",
       "      <th>4</th>\n",
       "      <td>8.0</td>\n",
       "      <td>8.5</td>\n",
       "    </tr>\n",
       "    <tr>\n",
       "      <th>26</th>\n",
       "      <td>8.0</td>\n",
       "      <td>7.0</td>\n",
       "    </tr>\n",
       "    <tr>\n",
       "      <th>30</th>\n",
       "      <td>7.0</td>\n",
       "      <td>9.0</td>\n",
       "    </tr>\n",
       "    <tr>\n",
       "      <th>32</th>\n",
       "      <td>8.0</td>\n",
       "      <td>7.0</td>\n",
       "    </tr>\n",
       "    <tr>\n",
       "      <th>37</th>\n",
       "      <td>7.0</td>\n",
       "      <td>7.0</td>\n",
       "    </tr>\n",
       "    <tr>\n",
       "      <th>34</th>\n",
       "      <td>8.0</td>\n",
       "      <td>9.0</td>\n",
       "    </tr>\n",
       "    <tr>\n",
       "      <th>40</th>\n",
       "      <td>7.0</td>\n",
       "      <td>7.0</td>\n",
       "    </tr>\n",
       "    <tr>\n",
       "      <th>7</th>\n",
       "      <td>8.0</td>\n",
       "      <td>8.5</td>\n",
       "    </tr>\n",
       "    <tr>\n",
       "      <th>10</th>\n",
       "      <td>8.0</td>\n",
       "      <td>8.0</td>\n",
       "    </tr>\n",
       "  </tbody>\n",
       "</table>\n",
       "</div>"
      ],
      "text/plain": [
       "    Actual  Predicted\n",
       "29     9.0        9.0\n",
       "4      8.0        8.5\n",
       "26     8.0        7.0\n",
       "30     7.0        9.0\n",
       "32     8.0        7.0\n",
       "37     7.0        7.0\n",
       "34     8.0        9.0\n",
       "40     7.0        7.0\n",
       "7      8.0        8.5\n",
       "10     8.0        8.0"
      ]
     },
     "execution_count": 14,
     "metadata": {},
     "output_type": "execute_result"
    }
   ],
   "source": [
    "y_pred=regressor.predict(X_test)\n",
    "df=pd.DataFrame({'Actual':y_test,'Predicted':y_pred})\n",
    "df"
   ]
  },
  {
   "cell_type": "code",
   "execution_count": 15,
   "metadata": {
    "pycharm": {
     "name": "#%%\n"
    }
   },
   "outputs": [
    {
     "name": "stdout",
     "output_type": "stream",
     "text": [
      "Средняя квадратная ошибка: 0.75\n",
      "Средняя абсолютная ошибка: 0.6\n"
     ]
    }
   ],
   "source": [
    "from sklearn import metrics\n",
    "print('Средняя квадратная ошибка:', metrics.mean_squared_error(y_test, y_pred))\n",
    "print('Средняя абсолютная ошибка:', metrics.mean_absolute_error(y_test, y_pred))"
   ]
  }
 ],
 "metadata": {
  "kernelspec": {
   "display_name": "Python 3 (ipykernel)",
   "language": "python",
   "name": "python3"
  },
  "language_info": {
   "codemirror_mode": {
    "name": "ipython",
    "version": 3
   },
   "file_extension": ".py",
   "mimetype": "text/x-python",
   "name": "python",
   "nbconvert_exporter": "python",
   "pygments_lexer": "ipython3",
   "version": "3.11.3"
  }
 },
 "nbformat": 4,
 "nbformat_minor": 1
}
